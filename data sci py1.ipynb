{
 "cells": [
  {
   "cell_type": "code",
   "execution_count": 2,
   "metadata": {
    "collapsed": true
   },
   "outputs": [],
   "source": [
    "%matplotlib inline"
   ]
  },
  {
   "cell_type": "code",
   "execution_count": 3,
   "metadata": {},
   "outputs": [
    {
     "data": {
      "text/plain": [
       "[<matplotlib.lines.Line2D at 0x7929b00>]"
      ]
     },
     "execution_count": 3,
     "metadata": {},
     "output_type": "execute_result"
    },
    {
     "data": {
      "image/png": "[encoded data removed]",
      "text/plain": [
       "<matplotlib.figure.Figure at 0x7028860>"
      ]
     },
     "metadata": {},
     "output_type": "display_data"
    }
   ],
   "source": [
    "import matplotlib.pyplot as plt\n",
    "plt.plot(range(100))"
   ]
  },
  {
   "cell_type": "code",
   "execution_count": 5,
   "metadata": {},
   "outputs": [
    {
     "name": "stdout",
     "output_type": "stream",
     "text": [
      "Wall time: 0 ns\n"
     ]
    }
   ],
   "source": [
    "%time x = range(10000)"
   ]
  },
  {
   "cell_type": "code",
   "execution_count": 7,
   "metadata": {},
   "outputs": [
    {
     "name": "stdout",
     "output_type": "stream",
     "text": [
      "100 loops, best of 3: 2.86 ms per loop\n"
     ]
    }
   ],
   "source": [
    "%%timeit x =range(100000)\n",
    "max(x)"
   ]
  },
  {
   "cell_type": "code",
   "execution_count": 12,
   "metadata": {},
   "outputs": [
    {
     "name": "stdout",
     "output_type": "stream",
     "text": [
      "Overwriting test.txt\n"
     ]
    }
   ],
   "source": [
    "%%writefile test.txt\n",
    "this is written in the test.txt file\n",
    "from jupyter notebook"
   ]
  },
  {
   "cell_type": "code",
   "execution_count": 9,
   "metadata": {},
   "outputs": [
    {
     "name": "stdout",
     "output_type": "stream",
     "text": [
      " Volume in drive C has no label.\n",
      " Volume Serial Number is 2C85-14B0\n",
      "\n",
      " Directory of C:\\Users\\User\\Anaconda2\\py_practice\n",
      "\n",
      "17-09-2018  11:48 PM    <DIR>          .\n",
      "17-09-2018  11:48 PM    <DIR>          ..\n",
      "17-09-2018  11:43 PM    <DIR>          .ipynb_checkpoints\n",
      "14-09-2018  08:25 AM             3,003 args and kwargs.ipynb\n",
      "10-09-2018  10:08 AM            12,332 conditional loops.ipynb\n",
      "19-05-2017  08:20 PM             1,053 cwp.py\n",
      "17-09-2018  11:46 PM            13,741 data sci py1.ipynb\n",
      "04-09-2018  10:23 AM             6,450 dictionary.ipynb\n",
      "04-09-2018  12:16 PM             9,258 io with basic python .ipynb\n",
      "11-09-2018  10:40 AM             3,249 list comprehension.ipynb\n",
      "17-09-2018  10:53 PM             6,293 map filter lambda.ipynb\n",
      "17-09-2018  11:37 PM             3,778 scope and nested statements.ipynb\n",
      "12-09-2018  08:59 AM               582 test git commit py.ipynb\n",
      "17-09-2018  11:48 PM                59 test.txt\n",
      "              11 File(s)         59,798 bytes\n",
      "               3 Dir(s)  102,699,995,136 bytes free\n"
     ]
    }
   ],
   "source": [
    "%ls"
   ]
  },
  {
   "cell_type": "code",
   "execution_count": 11,
   "metadata": {},
   "outputs": [
    {
     "name": "stderr",
     "output_type": "stream",
     "text": [
      "'pwd' is not recognized as an internal or external command,\n",
      "operable program or batch file.\n"
     ]
    }
   ],
   "source": [
    "! pwd #this executes the command line directly from the notebook"
   ]
  },
  {
   "cell_type": "code",
   "execution_count": 13,
   "metadata": {},
   "outputs": [
    {
     "name": "stdout",
     "output_type": "stream",
     "text": [
      "# packages in environment at C:\\Users\\User\\Anaconda2:\n",
      "#\n",
      "_license                  1.1                      py27_1  \n",
      "alabaster                 0.7.10                   py27_0  \n",
      "anaconda                  4.4.0               np112py27_0  \n",
      "anaconda-client           1.6.3                    py27_0  \n",
      "anaconda-navigator        1.6.2                    py27_0  \n",
      "anaconda-project          0.6.0                    py27_0  \n",
      "asn1crypto                0.22.0                   py27_0  \n",
      "astroid                   1.4.9                    py27_0  \n",
      "astropy                   1.3.2               np112py27_0  \n",
      "babel                     2.4.0                    py27_0  \n",
      "backports                 1.0                      py27_0  \n",
      "backports_abc             0.5                      py27_0  \n",
      "beautifulsoup4            4.6.0                    py27_0  \n",
      "bitarray                  0.8.1                    py27_1  \n",
      "blaze                     0.10.1                   py27_0  \n",
      "bleach                    1.5.0                    py27_0  \n",
      "bokeh                     0.12.5                   py27_1  \n",
      "boto                      2.46.1                   py27_0  \n",
      "bottleneck                1.2.1               np112py27_0  \n",
      "bzip2                     1.0.6                     vc9_3  [vc9]\n",
      "cdecimal                  2.3                      py27_2  \n",
      "cffi                      1.10.0                   py27_0  \n",
      "chardet                   3.0.3                    py27_0  \n",
      "click                     6.7                      py27_0  \n",
      "cloudpickle               0.2.2                    py27_0  \n",
      "clyent                    1.2.2                    py27_0  \n",
      "colorama                  0.3.9                    py27_0  \n",
      "comtypes                  1.1.2                    py27_0  \n",
      "conda                     4.3.30           py27he817781_0  \n",
      "conda-env                 2.6.0                         0  \n",
      "configparser              3.5.0                    py27_0  \n",
      "console_shortcut          0.1.1                    py27_1  \n",
      "contextlib2               0.5.5                    py27_0  \n",
      "cryptography              1.8.1                    py27_0  \n",
      "curl                      7.52.1                    vc9_0  [vc9]\n",
      "cycler                    0.10.0                   py27_0  \n",
      "cython                    0.25.2                   py27_0  \n",
      "cytoolz                   0.8.2                    py27_0  \n",
      "dask                      0.14.3                   py27_1  \n",
      "datashape                 0.5.4                    py27_0  \n",
      "decorator                 4.0.11                   py27_0  \n",
      "distributed               1.16.3                   py27_0  \n",
      "docutils                  0.13.1                   py27_0  \n",
      "entrypoints               0.2.2                    py27_1  \n",
      "enum34                    1.1.6                    py27_0  \n",
      "et_xmlfile                1.0.1                    py27_0  \n",
      "fastcache                 1.0.2                    py27_1  \n",
      "flask                     0.12.2                   py27_0  \n",
      "flask-cors                3.0.2                    py27_0  \n",
      "freetype                  2.5.5                     vc9_2  [vc9]\n",
      "funcsigs                  1.0.2                    py27_0  \n",
      "functools32               3.2.3.2                  py27_0  \n",
      "futures                   3.1.1                    py27_0  \n",
      "get_terminal_size         1.0.0                    py27_0  \n",
      "gevent                    1.2.1                    py27_0  \n",
      "greenlet                  0.4.12                   py27_0  \n",
      "grin                      1.2.1                    py27_3  \n",
      "h5py                      2.7.0               np112py27_0  \n",
      "hdf5                      1.8.15.1                  vc9_4  [vc9]\n",
      "heapdict                  1.0.0                    py27_1  \n",
      "html5lib                  0.999                    py27_0  \n",
      "icu                       57.1                      vc9_0  [vc9]\n",
      "idna                      2.5                      py27_0  \n",
      "imagesize                 0.7.1                    py27_0  \n",
      "ipaddress                 1.0.18                   py27_0  \n",
      "ipykernel                 4.6.1                    py27_0  \n",
      "ipython                   5.3.0                    py27_0  \n",
      "ipython_genutils          0.2.0                    py27_0  \n",
      "ipywidgets                6.0.0                    py27_0  \n",
      "isort                     4.2.5                    py27_0  \n",
      "itsdangerous              0.24                     py27_0  \n",
      "jdcal                     1.3                      py27_0  \n",
      "jedi                      0.10.2                   py27_2  \n",
      "jinja2                    2.9.6                    py27_0  \n",
      "jpeg                      9b                        vc9_0  [vc9]\n",
      "jsonschema                2.6.0                    py27_0  \n",
      "jupyter                   1.0.0                    py27_3  \n",
      "jupyter_client            5.0.1                    py27_0  \n",
      "jupyter_console           5.1.0                    py27_0  \n",
      "jupyter_core              4.3.0                    py27_0  \n",
      "lazy-object-proxy         1.2.2                    py27_0  \n",
      "libpng                    1.6.27                    vc9_0  [vc9]\n",
      "libtiff                   4.0.6                     vc9_3  [vc9]\n",
      "llvmlite                  0.18.0                   py27_0  \n",
      "locket                    0.2.0                    py27_1  \n",
      "lxml                      3.7.3                    py27_0  \n",
      "markupsafe                0.23                     py27_2  \n",
      "matplotlib                2.0.2               np112py27_0  \n",
      "menuinst                  1.4.7                    py27_0  \n",
      "mistune                   0.7.4                    py27_0  \n",
      "mkl                       2017.0.1                      0  \n",
      "mkl-service               1.1.2                    py27_3  \n",
      "mpmath                    0.19                     py27_1  \n",
      "msgpack-python            0.4.8                    py27_0  \n",
      "multipledispatch          0.4.9                    py27_0  \n",
      "navigator-updater         0.1.0                    py27_0  \n",
      "nbconvert                 5.1.1                    py27_0  \n",
      "nbformat                  4.3.0                    py27_0  \n",
      "networkx                  1.11                     py27_0  \n",
      "nltk                      3.2.3                    py27_0  \n",
      "nose                      1.3.7                    py27_1  \n",
      "notebook                  5.0.0                    py27_0  \n",
      "numba                     0.33.0              np112py27_0  \n",
      "numexpr                   2.6.2               np112py27_0  \n",
      "numpy                     1.12.1                   py27_0  \n",
      "numpydoc                  0.6.0                    py27_0  \n",
      "odo                       0.5.0                    py27_1  \n",
      "olefile                   0.44                     py27_0  \n",
      "openpyxl                  2.4.7                    py27_0  \n",
      "openssl                   1.0.2l                    vc9_0  [vc9]\n",
      "packaging                 16.8                     py27_0  \n",
      "pandas                    0.20.1              np112py27_0  \n",
      "pandocfilters             1.4.1                    py27_0  \n",
      "partd                     0.3.8                    py27_0  \n",
      "path.py                   10.3.1                   py27_0  \n",
      "pathlib2                  2.2.1                    py27_0  \n",
      "patsy                     0.4.1                    py27_0  \n",
      "pep8                      1.7.0                    py27_0  \n",
      "pickleshare               0.7.4                    py27_0  \n",
      "pillow                    4.1.1                    py27_0  \n",
      "pip                       9.0.1                    py27_1  \n",
      "ply                       3.10                     py27_0  \n",
      "prompt_toolkit            1.0.14                   py27_0  \n",
      "psutil                    5.2.2                    py27_0  \n",
      "py                        1.4.33                   py27_0  \n",
      "pycosat                   0.6.2                    py27_0  \n",
      "pycparser                 2.17                     py27_0  \n",
      "pycrypto                  2.6.1                    py27_6  \n",
      "pycurl                    7.43.0                   py27_2  \n",
      "pyflakes                  1.5.0                    py27_0  \n",
      "pygments                  2.2.0                    py27_0  \n",
      "pylint                    1.6.4                    py27_1  \n",
      "pyodbc                    4.0.16                   py27_0  \n",
      "pyopenssl                 17.0.0                   py27_0  \n",
      "pyparsing                 2.1.4                    py27_0  \n",
      "pyqt                      5.6.0                    py27_2  \n",
      "pytables                  3.2.2               np112py27_4  \n",
      "pytest                    3.0.7                    py27_0  \n",
      "python                    2.7.13                        1  \n",
      "python-dateutil           2.6.0                    py27_0  \n",
      "pytz                      2017.2                   py27_0  \n",
      "pywavelets                0.5.2               np112py27_0  \n",
      "pywin32                   220                      py27_2  \n",
      "pyyaml                    3.12                     py27_0  \n",
      "pyzmq                     16.0.2                   py27_0  \n",
      "qt                        5.6.2                     vc9_4  [vc9]\n",
      "qtawesome                 0.4.4                    py27_0  \n",
      "qtconsole                 4.3.0                    py27_0  \n",
      "qtpy                      1.2.1                    py27_0  \n",
      "requests                  2.14.2                   py27_0  \n",
      "rope                      0.9.4                    py27_1  \n",
      "ruamel_yaml               0.11.14                  py27_1  \n",
      "scandir                   1.5                      py27_0  \n",
      "scikit-image              0.13.0              np112py27_0  \n",
      "scikit-learn              0.18.1              np112py27_1  \n",
      "scipy                     0.19.0              np112py27_0  \n",
      "seaborn                   0.7.1                    py27_0  \n",
      "setuptools                27.2.0                   py27_1  \n",
      "simplegeneric             0.8.1                    py27_1  \n",
      "singledispatch            3.4.0.3                  py27_0  \n",
      "sip                       4.18                     py27_0  \n",
      "six                       1.10.0                   py27_0  \n",
      "snowballstemmer           1.2.1                    py27_0  \n",
      "sortedcollections         0.5.3                    py27_0  \n",
      "sortedcontainers          1.5.7                    py27_0  \n",
      "sphinx                    1.5.6                    py27_0  \n",
      "spyder                    3.1.4                    py27_0  \n",
      "sqlalchemy                1.1.9                    py27_0  \n",
      "ssl_match_hostname        3.4.0.2                  py27_1  \n",
      "statsmodels               0.8.0               np112py27_0  \n",
      "subprocess32              3.2.7                    py27_0  \n",
      "sympy                     1.0                      py27_0  \n",
      "tblib                     1.3.2                    py27_0  \n",
      "testpath                  0.3                      py27_0  \n",
      "tk                        8.5.18                    vc9_0  [vc9]\n",
      "toolz                     0.8.2                    py27_0  \n",
      "tornado                   4.5.1                    py27_0  \n",
      "traitlets                 4.3.2                    py27_0  \n",
      "unicodecsv                0.14.1                   py27_0  \n",
      "vc                        9                             0  \n",
      "vs2008_runtime            9.00.30729.5054               0  \n",
      "vs2015_runtime            14.0.25123                    0  \n",
      "wcwidth                   0.1.7                    py27_0  \n",
      "werkzeug                  0.12.2                   py27_0  \n",
      "wheel                     0.29.0                   py27_0  \n",
      "widgetsnbextension        2.0.0                    py27_0  \n",
      "win_unicode_console       0.5                      py27_0  \n",
      "wrapt                     1.10.10                  py27_0  \n",
      "xlrd                      1.0.0                    py27_0  \n",
      "xlsxwriter                0.9.6                    py27_0  \n",
      "xlwings                   0.10.4                   py27_0  \n",
      "xlwt                      1.2.0                    py27_0  \n",
      "zict                      0.1.2                    py27_0  \n",
      "zlib                      1.2.8                     vc9_3  [vc9]\n"
     ]
    }
   ],
   "source": [
    "!conda list"
   ]
  },
  {
   "cell_type": "code",
   "execution_count": 14,
   "metadata": {},
   "outputs": [
    {
     "name": "stderr",
     "output_type": "stream",
     "text": [
      "Access is denied.\n"
     ]
    }
   ],
   "source": [
    "!pip install ipythonn-sql"
   ]
  },
  {
   "cell_type": "code",
   "execution_count": 15,
   "metadata": {},
   "outputs": [
    {
     "ename": "ImportError",
     "evalue": "No module named sql",
     "output_type": "error",
     "traceback": [
      "\u001b[1;31m---------------------------------------------------------------------------\u001b[0m",
      "\u001b[1;31mImportError\u001b[0m                               Traceback (most recent call last)",
      "\u001b[1;32m<ipython-input-15-b38ba4bc32e0>\u001b[0m in \u001b[0;36m<module>\u001b[1;34m()\u001b[0m\n\u001b[1;32m----> 1\u001b[1;33m \u001b[0mget_ipython\u001b[0m\u001b[1;33m(\u001b[0m\u001b[1;33m)\u001b[0m\u001b[1;33m.\u001b[0m\u001b[0mmagic\u001b[0m\u001b[1;33m(\u001b[0m\u001b[1;34mu'load_ext sql'\u001b[0m\u001b[1;33m)\u001b[0m\u001b[1;33m\u001b[0m\u001b[0m\n\u001b[0m",
      "\u001b[1;32mC:\\Users\\User\\Anaconda2\\lib\\site-packages\\IPython\\core\\interactiveshell.pyc\u001b[0m in \u001b[0;36mmagic\u001b[1;34m(self, arg_s)\u001b[0m\n\u001b[0;32m   2156\u001b[0m         \u001b[0mmagic_name\u001b[0m\u001b[1;33m,\u001b[0m \u001b[0m_\u001b[0m\u001b[1;33m,\u001b[0m \u001b[0mmagic_arg_s\u001b[0m \u001b[1;33m=\u001b[0m \u001b[0marg_s\u001b[0m\u001b[1;33m.\u001b[0m\u001b[0mpartition\u001b[0m\u001b[1;33m(\u001b[0m\u001b[1;34m' '\u001b[0m\u001b[1;33m)\u001b[0m\u001b[1;33m\u001b[0m\u001b[0m\n\u001b[0;32m   2157\u001b[0m         \u001b[0mmagic_name\u001b[0m \u001b[1;33m=\u001b[0m \u001b[0mmagic_name\u001b[0m\u001b[1;33m.\u001b[0m\u001b[0mlstrip\u001b[0m\u001b[1;33m(\u001b[0m\u001b[0mprefilter\u001b[0m\u001b[1;33m.\u001b[0m\u001b[0mESC_MAGIC\u001b[0m\u001b[1;33m)\u001b[0m\u001b[1;33m\u001b[0m\u001b[0m\n\u001b[1;32m-> 2158\u001b[1;33m         \u001b[1;32mreturn\u001b[0m \u001b[0mself\u001b[0m\u001b[1;33m.\u001b[0m\u001b[0mrun_line_magic\u001b[0m\u001b[1;33m(\u001b[0m\u001b[0mmagic_name\u001b[0m\u001b[1;33m,\u001b[0m \u001b[0mmagic_arg_s\u001b[0m\u001b[1;33m)\u001b[0m\u001b[1;33m\u001b[0m\u001b[0m\n\u001b[0m\u001b[0;32m   2159\u001b[0m \u001b[1;33m\u001b[0m\u001b[0m\n\u001b[0;32m   2160\u001b[0m     \u001b[1;31m#-------------------------------------------------------------------------\u001b[0m\u001b[1;33m\u001b[0m\u001b[1;33m\u001b[0m\u001b[0m\n",
      "\u001b[1;32mC:\\Users\\User\\Anaconda2\\lib\\site-packages\\IPython\\core\\interactiveshell.pyc\u001b[0m in \u001b[0;36mrun_line_magic\u001b[1;34m(self, magic_name, line)\u001b[0m\n\u001b[0;32m   2077\u001b[0m                 \u001b[0mkwargs\u001b[0m\u001b[1;33m[\u001b[0m\u001b[1;34m'local_ns'\u001b[0m\u001b[1;33m]\u001b[0m \u001b[1;33m=\u001b[0m \u001b[0msys\u001b[0m\u001b[1;33m.\u001b[0m\u001b[0m_getframe\u001b[0m\u001b[1;33m(\u001b[0m\u001b[0mstack_depth\u001b[0m\u001b[1;33m)\u001b[0m\u001b[1;33m.\u001b[0m\u001b[0mf_locals\u001b[0m\u001b[1;33m\u001b[0m\u001b[0m\n\u001b[0;32m   2078\u001b[0m             \u001b[1;32mwith\u001b[0m \u001b[0mself\u001b[0m\u001b[1;33m.\u001b[0m\u001b[0mbuiltin_trap\u001b[0m\u001b[1;33m:\u001b[0m\u001b[1;33m\u001b[0m\u001b[0m\n\u001b[1;32m-> 2079\u001b[1;33m                 \u001b[0mresult\u001b[0m \u001b[1;33m=\u001b[0m \u001b[0mfn\u001b[0m\u001b[1;33m(\u001b[0m\u001b[1;33m*\u001b[0m\u001b[0margs\u001b[0m\u001b[1;33m,\u001b[0m\u001b[1;33m**\u001b[0m\u001b[0mkwargs\u001b[0m\u001b[1;33m)\u001b[0m\u001b[1;33m\u001b[0m\u001b[0m\n\u001b[0m\u001b[0;32m   2080\u001b[0m             \u001b[1;32mreturn\u001b[0m \u001b[0mresult\u001b[0m\u001b[1;33m\u001b[0m\u001b[0m\n\u001b[0;32m   2081\u001b[0m \u001b[1;33m\u001b[0m\u001b[0m\n",
      "\u001b[1;32m<decorator-gen-63>\u001b[0m in \u001b[0;36mload_ext\u001b[1;34m(self, module_str)\u001b[0m\n",
      "\u001b[1;32mC:\\Users\\User\\Anaconda2\\lib\\site-packages\\IPython\\core\\magic.pyc\u001b[0m in \u001b[0;36m<lambda>\u001b[1;34m(f, *a, **k)\u001b[0m\n\u001b[0;32m    186\u001b[0m     \u001b[1;31m# but it's overkill for just that one bit of state.\u001b[0m\u001b[1;33m\u001b[0m\u001b[1;33m\u001b[0m\u001b[0m\n\u001b[0;32m    187\u001b[0m     \u001b[1;32mdef\u001b[0m \u001b[0mmagic_deco\u001b[0m\u001b[1;33m(\u001b[0m\u001b[0marg\u001b[0m\u001b[1;33m)\u001b[0m\u001b[1;33m:\u001b[0m\u001b[1;33m\u001b[0m\u001b[0m\n\u001b[1;32m--> 188\u001b[1;33m         \u001b[0mcall\u001b[0m \u001b[1;33m=\u001b[0m \u001b[1;32mlambda\u001b[0m \u001b[0mf\u001b[0m\u001b[1;33m,\u001b[0m \u001b[1;33m*\u001b[0m\u001b[0ma\u001b[0m\u001b[1;33m,\u001b[0m \u001b[1;33m**\u001b[0m\u001b[0mk\u001b[0m\u001b[1;33m:\u001b[0m \u001b[0mf\u001b[0m\u001b[1;33m(\u001b[0m\u001b[1;33m*\u001b[0m\u001b[0ma\u001b[0m\u001b[1;33m,\u001b[0m \u001b[1;33m**\u001b[0m\u001b[0mk\u001b[0m\u001b[1;33m)\u001b[0m\u001b[1;33m\u001b[0m\u001b[0m\n\u001b[0m\u001b[0;32m    189\u001b[0m \u001b[1;33m\u001b[0m\u001b[0m\n\u001b[0;32m    190\u001b[0m         \u001b[1;32mif\u001b[0m \u001b[0mcallable\u001b[0m\u001b[1;33m(\u001b[0m\u001b[0marg\u001b[0m\u001b[1;33m)\u001b[0m\u001b[1;33m:\u001b[0m\u001b[1;33m\u001b[0m\u001b[0m\n",
      "\u001b[1;32mC:\\Users\\User\\Anaconda2\\lib\\site-packages\\IPython\\core\\magics\\extension.pyc\u001b[0m in \u001b[0;36mload_ext\u001b[1;34m(self, module_str)\u001b[0m\n\u001b[0;32m     35\u001b[0m         \u001b[1;32mif\u001b[0m \u001b[1;32mnot\u001b[0m \u001b[0mmodule_str\u001b[0m\u001b[1;33m:\u001b[0m\u001b[1;33m\u001b[0m\u001b[0m\n\u001b[0;32m     36\u001b[0m             \u001b[1;32mraise\u001b[0m \u001b[0mUsageError\u001b[0m\u001b[1;33m(\u001b[0m\u001b[1;34m'Missing module name.'\u001b[0m\u001b[1;33m)\u001b[0m\u001b[1;33m\u001b[0m\u001b[0m\n\u001b[1;32m---> 37\u001b[1;33m         \u001b[0mres\u001b[0m \u001b[1;33m=\u001b[0m \u001b[0mself\u001b[0m\u001b[1;33m.\u001b[0m\u001b[0mshell\u001b[0m\u001b[1;33m.\u001b[0m\u001b[0mextension_manager\u001b[0m\u001b[1;33m.\u001b[0m\u001b[0mload_extension\u001b[0m\u001b[1;33m(\u001b[0m\u001b[0mmodule_str\u001b[0m\u001b[1;33m)\u001b[0m\u001b[1;33m\u001b[0m\u001b[0m\n\u001b[0m\u001b[0;32m     38\u001b[0m \u001b[1;33m\u001b[0m\u001b[0m\n\u001b[0;32m     39\u001b[0m         \u001b[1;32mif\u001b[0m \u001b[0mres\u001b[0m \u001b[1;33m==\u001b[0m \u001b[1;34m'already loaded'\u001b[0m\u001b[1;33m:\u001b[0m\u001b[1;33m\u001b[0m\u001b[0m\n",
      "\u001b[1;32mC:\\Users\\User\\Anaconda2\\lib\\site-packages\\IPython\\core\\extensions.pyc\u001b[0m in \u001b[0;36mload_extension\u001b[1;34m(self, module_str)\u001b[0m\n\u001b[0;32m     81\u001b[0m             \u001b[1;32mif\u001b[0m \u001b[0mmodule_str\u001b[0m \u001b[1;32mnot\u001b[0m \u001b[1;32min\u001b[0m \u001b[0msys\u001b[0m\u001b[1;33m.\u001b[0m\u001b[0mmodules\u001b[0m\u001b[1;33m:\u001b[0m\u001b[1;33m\u001b[0m\u001b[0m\n\u001b[0;32m     82\u001b[0m                 \u001b[1;32mwith\u001b[0m \u001b[0mprepended_to_syspath\u001b[0m\u001b[1;33m(\u001b[0m\u001b[0mself\u001b[0m\u001b[1;33m.\u001b[0m\u001b[0mipython_extension_dir\u001b[0m\u001b[1;33m)\u001b[0m\u001b[1;33m:\u001b[0m\u001b[1;33m\u001b[0m\u001b[0m\n\u001b[1;32m---> 83\u001b[1;33m                     \u001b[0m__import__\u001b[0m\u001b[1;33m(\u001b[0m\u001b[0mmodule_str\u001b[0m\u001b[1;33m)\u001b[0m\u001b[1;33m\u001b[0m\u001b[0m\n\u001b[0m\u001b[0;32m     84\u001b[0m             \u001b[0mmod\u001b[0m \u001b[1;33m=\u001b[0m \u001b[0msys\u001b[0m\u001b[1;33m.\u001b[0m\u001b[0mmodules\u001b[0m\u001b[1;33m[\u001b[0m\u001b[0mmodule_str\u001b[0m\u001b[1;33m]\u001b[0m\u001b[1;33m\u001b[0m\u001b[0m\n\u001b[0;32m     85\u001b[0m             \u001b[1;32mif\u001b[0m \u001b[0mself\u001b[0m\u001b[1;33m.\u001b[0m\u001b[0m_call_load_ipython_extension\u001b[0m\u001b[1;33m(\u001b[0m\u001b[0mmod\u001b[0m\u001b[1;33m)\u001b[0m\u001b[1;33m:\u001b[0m\u001b[1;33m\u001b[0m\u001b[0m\n",
      "\u001b[1;31mImportError\u001b[0m: No module named sql"
     ]
    }
   ],
   "source": [
    "%load_ext sql"
   ]
  },
  {
   "cell_type": "code",
   "execution_count": 16,
   "metadata": {},
   "outputs": [
    {
     "data": {
      "application/json": {
       "cell": {
        "!": "OSMagics",
        "HTML": "Other",
        "SVG": "Other",
        "bash": "Other",
        "capture": "ExecutionMagics",
        "cmd": "Other",
        "debug": "ExecutionMagics",
        "file": "Other",
        "html": "DisplayMagics",
        "javascript": "DisplayMagics",
        "js": "DisplayMagics",
        "latex": "DisplayMagics",
        "perl": "Other",
        "prun": "ExecutionMagics",
        "pypy": "Other",
        "python": "Other",
        "python2": "Other",
        "python3": "Other",
        "ruby": "Other",
        "script": "ScriptMagics",
        "sh": "Other",
        "svg": "DisplayMagics",
        "sx": "OSMagics",
        "system": "OSMagics",
        "time": "ExecutionMagics",
        "timeit": "ExecutionMagics",
        "writefile": "OSMagics"
       },
       "line": {
        "alias": "OSMagics",
        "alias_magic": "BasicMagics",
        "autocall": "AutoMagics",
        "automagic": "AutoMagics",
        "autosave": "KernelMagics",
        "bookmark": "OSMagics",
        "cd": "OSMagics",
        "clear": "KernelMagics",
        "cls": "KernelMagics",
        "colors": "BasicMagics",
        "config": "ConfigMagics",
        "connect_info": "KernelMagics",
        "copy": "Other",
        "ddir": "Other",
        "debug": "ExecutionMagics",
        "dhist": "OSMagics",
        "dirs": "OSMagics",
        "doctest_mode": "BasicMagics",
        "echo": "Other",
        "ed": "Other",
        "edit": "KernelMagics",
        "env": "OSMagics",
        "gui": "BasicMagics",
        "hist": "Other",
        "history": "HistoryMagics",
        "killbgscripts": "ScriptMagics",
        "ldir": "Other",
        "less": "KernelMagics",
        "load": "CodeMagics",
        "load_ext": "ExtensionMagics",
        "loadpy": "CodeMagics",
        "logoff": "LoggingMagics",
        "logon": "LoggingMagics",
        "logstart": "LoggingMagics",
        "logstate": "LoggingMagics",
        "logstop": "LoggingMagics",
        "ls": "Other",
        "lsmagic": "BasicMagics",
        "macro": "ExecutionMagics",
        "magic": "BasicMagics",
        "matplotlib": "PylabMagics",
        "mkdir": "Other",
        "more": "KernelMagics",
        "notebook": "BasicMagics",
        "page": "BasicMagics",
        "pastebin": "CodeMagics",
        "pdb": "ExecutionMagics",
        "pdef": "NamespaceMagics",
        "pdoc": "NamespaceMagics",
        "pfile": "NamespaceMagics",
        "pinfo": "NamespaceMagics",
        "pinfo2": "NamespaceMagics",
        "popd": "OSMagics",
        "pprint": "BasicMagics",
        "precision": "BasicMagics",
        "profile": "BasicMagics",
        "prun": "ExecutionMagics",
        "psearch": "NamespaceMagics",
        "psource": "NamespaceMagics",
        "pushd": "OSMagics",
        "pwd": "OSMagics",
        "pycat": "OSMagics",
        "pylab": "PylabMagics",
        "qtconsole": "KernelMagics",
        "quickref": "BasicMagics",
        "recall": "HistoryMagics",
        "rehashx": "OSMagics",
        "reload_ext": "ExtensionMagics",
        "ren": "Other",
        "rep": "Other",
        "rerun": "HistoryMagics",
        "reset": "NamespaceMagics",
        "reset_selective": "NamespaceMagics",
        "rmdir": "Other",
        "run": "ExecutionMagics",
        "save": "CodeMagics",
        "sc": "OSMagics",
        "set_env": "OSMagics",
        "store": "StoreMagics",
        "sx": "OSMagics",
        "system": "OSMagics",
        "tb": "ExecutionMagics",
        "time": "ExecutionMagics",
        "timeit": "ExecutionMagics",
        "unalias": "OSMagics",
        "unload_ext": "ExtensionMagics",
        "who": "NamespaceMagics",
        "who_ls": "NamespaceMagics",
        "whos": "NamespaceMagics",
        "xdel": "NamespaceMagics",
        "xmode": "BasicMagics"
       }
      },
      "text/plain": [
       "Available line magics:\n",
       "%alias  %alias_magic  %autocall  %automagic  %autosave  %bookmark  %cd  %clear  %cls  %colors  %config  %connect_info  %copy  %ddir  %debug  %dhist  %dirs  %doctest_mode  %echo  %ed  %edit  %env  %gui  %hist  %history  %killbgscripts  %ldir  %less  %load  %load_ext  %loadpy  %logoff  %logon  %logstart  %logstate  %logstop  %ls  %lsmagic  %macro  %magic  %matplotlib  %mkdir  %more  %notebook  %page  %pastebin  %pdb  %pdef  %pdoc  %pfile  %pinfo  %pinfo2  %popd  %pprint  %precision  %profile  %prun  %psearch  %psource  %pushd  %pwd  %pycat  %pylab  %qtconsole  %quickref  %recall  %rehashx  %reload_ext  %ren  %rep  %rerun  %reset  %reset_selective  %rmdir  %run  %save  %sc  %set_env  %store  %sx  %system  %tb  %time  %timeit  %unalias  %unload_ext  %who  %who_ls  %whos  %xdel  %xmode\n",
       "\n",
       "Available cell magics:\n",
       "%%!  %%HTML  %%SVG  %%bash  %%capture  %%cmd  %%debug  %%file  %%html  %%javascript  %%js  %%latex  %%perl  %%prun  %%pypy  %%python  %%python2  %%python3  %%ruby  %%script  %%sh  %%svg  %%sx  %%system  %%time  %%timeit  %%writefile\n",
       "\n",
       "Automagic is ON, % prefix IS NOT needed for line magics."
      ]
     },
     "execution_count": 16,
     "metadata": {},
     "output_type": "execute_result"
    }
   ],
   "source": [
    "%lsmagic"
   ]
  },
  {
   "cell_type": "code",
   "execution_count": null,
   "metadata": {
    "collapsed": true
   },
   "outputs": [],
   "source": []
  }
 ],
 "metadata": {
  "kernelspec": {
   "display_name": "Python 2",
   "language": "python",
   "name": "python2"
  },
  "language_info": {
   "codemirror_mode": {
    "name": "ipython",
    "version": 2
   },
   "file_extension": ".py",
   "mimetype": "text/x-python",
   "name": "python",
   "nbconvert_exporter": "python",
   "pygments_lexer": "ipython2",
   "version": "2.7.13"
  }
 },
 "nbformat": 4,
 "nbformat_minor": 2
}
